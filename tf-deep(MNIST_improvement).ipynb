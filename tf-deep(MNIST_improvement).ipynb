{
 "cells": [
  {
   "cell_type": "code",
   "execution_count": 1,
   "metadata": {},
   "outputs": [],
   "source": [
    "import tensorflow as tf\n",
    "#improve our MNISTSimpleVersion\n",
    "#https://github.com/YanZiQinKevin/tf-DeepLeaning/blob/master/MNISTSimpleVersion.ipynb"
   ]
  },
  {
   "cell_type": "markdown",
   "metadata": {},
   "source": [
    "'''\n",
    "input >weight> hidden layer 1>\n",
    "weight> hidden layer 2>\n",
    "weights > output layer\n",
    "\n",
    "compare output to intended output > cost function\n",
    "\n",
    "optimization funcion (optimizer) ? minimize cost (AdamOptimizer...SGD, AdaGrad)\n",
    "\n",
    "backpropagation\n",
    "feed forward + backprop = epoch\n",
    "'''"
   ]
  },
  {
   "cell_type": "code",
   "execution_count": null,
   "metadata": {},
   "outputs": [],
   "source": [
    "from tensorflow.examples.tutorials.mnist import input_data\n",
    "mnist= input_data.read_data_sets(\"MNIST_data\",one_hot=True)\n",
    "\n",
    "n_nodes_hl1=500\n",
    "n_nodes_hl2=500\n",
    "n_nodes_hl3=500\n",
    "\n",
    "batch_size=100\n",
    "n_classes=10\n",
    "\n",
    "#height X width\n",
    "x=tf.placeholder(tf.float32,(None,784))\n",
    "y=tf.placeholder(tf.float32,(None,10))\n",
    "\n",
    "def neural_networl_mode(data):\n",
    "    hidden_1_layer ={'weights':tf.Variable(tf.random_normal([784,n_nodes_hl1]))}\n",
    "    "
   ]
  }
 ],
 "metadata": {
  "kernelspec": {
   "display_name": "Python 3",
   "language": "python",
   "name": "python3"
  },
  "language_info": {
   "codemirror_mode": {
    "name": "ipython",
    "version": 3
   },
   "file_extension": ".py",
   "mimetype": "text/x-python",
   "name": "python",
   "nbconvert_exporter": "python",
   "pygments_lexer": "ipython3",
   "version": "3.6.3"
  }
 },
 "nbformat": 4,
 "nbformat_minor": 2
}
