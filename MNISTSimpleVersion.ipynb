{
 "cells": [
  {
   "cell_type": "code",
   "execution_count": 3,
   "metadata": {},
   "outputs": [],
   "source": [
    "import tensorflow as tf\n",
    "from tensorflow.examples.tutorials.mnist import input_data"
   ]
  },
  {
   "cell_type": "code",
   "execution_count": 4,
   "metadata": {},
   "outputs": [
    {
     "name": "stdout",
     "output_type": "stream",
     "text": [
      "Extracting MNIST_data/train-images-idx3-ubyte.gz\n",
      "Extracting MNIST_data/train-labels-idx1-ubyte.gz\n",
      "Extracting MNIST_data/t10k-images-idx3-ubyte.gz\n",
      "Extracting MNIST_data/t10k-labels-idx1-ubyte.gz\n",
      "Iter 0,testing Accuracy0.8334\n",
      "Iter 1,testing Accuracy0.8706\n",
      "Iter 2,testing Accuracy0.8819\n",
      "Iter 3,testing Accuracy0.8891\n",
      "Iter 4,testing Accuracy0.8943\n",
      "Iter 5,testing Accuracy0.8976\n",
      "Iter 6,testing Accuracy0.8997\n",
      "Iter 7,testing Accuracy0.9015\n",
      "Iter 8,testing Accuracy0.9033\n",
      "Iter 9,testing Accuracy0.9059\n",
      "Iter 10,testing Accuracy0.9066\n",
      "Iter 11,testing Accuracy0.9077\n",
      "Iter 12,testing Accuracy0.908\n",
      "Iter 13,testing Accuracy0.909\n",
      "Iter 14,testing Accuracy0.9099\n",
      "Iter 15,testing Accuracy0.9111\n",
      "Iter 16,testing Accuracy0.9113\n",
      "Iter 17,testing Accuracy0.9125\n",
      "Iter 18,testing Accuracy0.9132\n",
      "Iter 19,testing Accuracy0.9139\n",
      "Iter 20,testing Accuracy0.9136\n"
     ]
    }
   ],
   "source": [
    "mnist= input_data.read_data_sets(\"MNIST_data\",one_hot=True)\n",
    "\n",
    "batch_size=100\n",
    "n_batch= mnist.train.num_examples//batch_size\n",
    "\n",
    "#define place holder  \n",
    "#784=28*28\n",
    "x=tf.placeholder(tf.float32,(None,784))\n",
    "y=tf.placeholder(tf.float32,(None,10))\n",
    "#define nerul network\n",
    "W=tf.Variable(tf.zeros([784,10]))\n",
    "b=tf.Variable(tf.zeros([10]))\n",
    "prediction=tf.nn.softmax(tf.matmul(x,W)+b)\n",
    "\n",
    "loss=tf.reduce_mean(tf.square(y-prediction))\n",
    "train_step=tf.train.GradientDescentOptimizer(0.2).minimize(loss)\n",
    "#initialize\n",
    "init=tf.global_variables_initializer()\n",
    "#bool list\n",
    "correct_prediction= tf.equal(tf.argmax(y,1),tf.argmax(prediction,1))\n",
    "\n",
    "accuracy=tf.reduce_mean(tf.cast(correct_prediction,tf.float32))\n",
    "\n",
    "with tf.Session() as sess:\n",
    "    sess.run(init)\n",
    "    for epoch in range(21):\n",
    "        for batch in range(n_batch):\n",
    "            batch_xs, batch_ys=mnist.train.next_batch(batch_size)\n",
    "            sess.run(train_step,feed_dict={x:batch_xs,y:batch_ys})\n",
    "        \n",
    "        acc = sess.run(accuracy,feed_dict={x:mnist.test.images,y:mnist.test.labels})\n",
    "        print(\"Iter \"+str(epoch)+\",testing Accuracy\"+str(acc))\n",
    "        \n"
   ]
  },
  {
   "cell_type": "code",
   "execution_count": null,
   "metadata": {},
   "outputs": [],
   "source": []
  }
 ],
 "metadata": {
  "kernelspec": {
   "display_name": "Python 3",
   "language": "python",
   "name": "python3"
  },
  "language_info": {
   "codemirror_mode": {
    "name": "ipython",
    "version": 3
   },
   "file_extension": ".py",
   "mimetype": "text/x-python",
   "name": "python",
   "nbconvert_exporter": "python",
   "pygments_lexer": "ipython3",
   "version": "3.6.3"
  }
 },
 "nbformat": 4,
 "nbformat_minor": 2
}
