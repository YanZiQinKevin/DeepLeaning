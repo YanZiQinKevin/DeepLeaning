{
 "cells": [
  {
   "cell_type": "code",
   "execution_count": 1,
   "metadata": {},
   "outputs": [],
   "source": [
    "import tensorflow as tf\n",
    "#improve our MNISTSimpleVersion\n",
    "#https://github.com/YanZiQinKevin/tf-DeepLeaning/blob/master/MNISTSimpleVersion.ipynb"
   ]
  },
  {
   "cell_type": "markdown",
   "metadata": {},
   "source": [
    "'''\n",
    "input >weight> hidden layer 1>\n",
    "weight> hidden layer 2>\n",
    "weights > output layer\n",
    "\n",
    "compare output to intended output > cost function\n",
    "\n",
    "optimization funcion (optimizer) ? minimize cost (AdamOptimizer...SGD, AdaGrad)\n",
    "\n",
    "backpropagation\n",
    "feed forward + backprop = epoch\n",
    "'''"
   ]
  },
  {
   "cell_type": "code",
   "execution_count": 2,
   "metadata": {},
   "outputs": [
    {
     "name": "stdout",
     "output_type": "stream",
     "text": [
      "Extracting MNIST_data/train-images-idx3-ubyte.gz\n",
      "Extracting MNIST_data/train-labels-idx1-ubyte.gz\n",
      "Extracting MNIST_data/t10k-images-idx3-ubyte.gz\n",
      "Extracting MNIST_data/t10k-labels-idx1-ubyte.gz\n"
     ]
    }
   ],
   "source": [
    "from tensorflow.examples.tutorials.mnist import input_data\n",
    "mnist= input_data.read_data_sets(\"MNIST_data\",one_hot=True)\n",
    "\n",
    "n_nodes_hl1=500\n",
    "n_nodes_hl2=500\n",
    "n_nodes_hl3=500\n",
    "\n",
    "\n",
    "batch_size=100\n",
    "n_classes=10\n",
    "\n",
    "#height X width\n",
    "x=tf.placeholder('float',(None,784))\n",
    "y=tf.placeholder('float',(None,10))\n",
    "\n",
    "def neural_network_model(data):\n",
    "    #(input data *weight)+biases\n",
    "    hidden_1_layer ={'weights':tf.Variable(tf.random_normal([784,n_nodes_hl1])),\n",
    "    'biases': tf.Variable(tf.random_normal([n_nodes_hl1]))}\n",
    "    \n",
    "    hidden_2_layer ={'weights':tf.Variable(tf.random_normal([n_nodes_hl1,n_nodes_hl2])),\n",
    "    'biases': tf.Variable(tf.random_normal([n_nodes_hl2]))}\n",
    "    hidden_3_layer ={'weights':tf.Variable(tf.random_normal([n_nodes_hl2,n_nodes_hl3])),\n",
    "    'biases': tf.Variable(tf.random_normal([n_nodes_hl3]))}\n",
    "    output_layer ={'weights':tf.Variable(tf.random_normal([n_nodes_hl3,n_classes])),\n",
    "    'biases': tf.Variable(tf.random_normal([n_classes]))}\n",
    "    \n",
    "    #(input data *weight)+biases\n",
    "    l1=tf.add(tf.matmul(data,hidden_1_layer['weights']),hidden_1_layer['biases'])\n",
    "    #tf.nn.relu(features, name=None)  = max(0,features) 激活\n",
    "    l1=tf.nn.relu(l1)\n",
    "    \n",
    "    l2=tf.add(tf.matmul(l1,hidden_2_layer['weights']),hidden_2_layer['biases'])\n",
    "    l2=tf.nn.relu(l2)\n",
    "    \n",
    "    l3=tf.add(tf.matmul(l2,hidden_3_layer['weights']),hidden_3_layer['biases'])\n",
    "    l3=tf.nn.relu(l3)\n",
    "    \n",
    "    output=tf.matmul(l3,output_layer['weights'])+output_layer['biases']\n",
    "    return output\n"
   ]
  },
  {
   "cell_type": "code",
   "execution_count": 3,
   "metadata": {},
   "outputs": [
    {
     "name": "stdout",
     "output_type": "stream",
     "text": [
      "Epoch 0 completed out of 10 loss: 1592029.19653\n",
      "Epoch 1 completed out of 10 loss: 378192.574214\n",
      "Epoch 2 completed out of 10 loss: 205252.345339\n",
      "Epoch 3 completed out of 10 loss: 121176.194474\n",
      "Epoch 4 completed out of 10 loss: 72575.544281\n",
      "Epoch 5 completed out of 10 loss: 48614.557703\n",
      "Epoch 6 completed out of 10 loss: 32097.6548838\n",
      "Epoch 7 completed out of 10 loss: 23006.6240019\n",
      "Epoch 8 completed out of 10 loss: 17740.6697677\n",
      "Epoch 9 completed out of 10 loss: 20205.5919849\n",
      "accuracy: 0.9521\n"
     ]
    }
   ],
   "source": [
    "def train_network(x):\n",
    "    prediction = neural_network_model(x)\n",
    "    #prediction =tf.nn.softmax(prediction)\n",
    "    cost = tf.reduce_mean(tf.nn.softmax_cross_entropy_with_logits_v2(labels=y,logits=prediction))\n",
    "    #learning rate=0.001\n",
    "    \n",
    "    #此函数是Adam优化算法：是一个寻找全局最优点的优化算法，引入了二次方梯度校正。\n",
    "    optimizer =tf.train.AdamOptimizer().minimize(cost)\n",
    "    # cycles feed forword + backprop\n",
    "    hm_epochs=10\n",
    "    \n",
    "    with tf.Session() as sess:\n",
    "        sess.run(tf.global_variables_initializer())\n",
    "        for epoch in range(hm_epochs):\n",
    "            epoch_loss =0\n",
    "            for _ in range(int(mnist.train.num_examples/batch_size)):\n",
    "                epoch_x,epoch_y =mnist.train.next_batch(batch_size)\n",
    "                _, c =sess.run([optimizer,cost],feed_dict={x: epoch_x, y: epoch_y})\n",
    "                epoch_loss +=c\n",
    "            print('Epoch',epoch,'completed out of',hm_epochs,'loss:',epoch_loss)\n",
    "        correct = tf.equal(tf.argmax(prediction,1),tf.argmax(y,1))\n",
    "        accuracy =tf.reduce_mean(tf.cast(correct,tf.float32))\n",
    "        print ('accuracy:', accuracy.eval({x:mnist.test.images, y: mnist.test.labels}))\n",
    "     \n",
    "train_network(x)"
   ]
  },
  {
   "cell_type": "code",
   "execution_count": null,
   "metadata": {},
   "outputs": [],
   "source": []
  }
 ],
 "metadata": {
  "kernelspec": {
   "display_name": "Python 3",
   "language": "python",
   "name": "python3"
  },
  "language_info": {
   "codemirror_mode": {
    "name": "ipython",
    "version": 3
   },
   "file_extension": ".py",
   "mimetype": "text/x-python",
   "name": "python",
   "nbconvert_exporter": "python",
   "pygments_lexer": "ipython3",
   "version": "3.6.3"
  }
 },
 "nbformat": 4,
 "nbformat_minor": 2
}
